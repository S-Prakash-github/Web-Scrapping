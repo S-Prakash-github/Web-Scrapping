{
 "cells": [
  {
   "cell_type": "code",
   "execution_count": 213,
   "id": "77094315",
   "metadata": {},
   "outputs": [],
   "source": [
    "import requests\n",
    "import pandas as pd\n",
    "from bs4 import BeautifulSoup"
   ]
  },
  {
   "cell_type": "code",
   "execution_count": 214,
   "id": "d6303be8",
   "metadata": {},
   "outputs": [],
   "source": [
    "url  = \"https://ticker.finology.in/market\"\n",
    "r = requests.get(url)"
   ]
  },
  {
   "cell_type": "code",
   "execution_count": 215,
   "id": "2758c644",
   "metadata": {},
   "outputs": [
    {
     "name": "stdout",
     "output_type": "stream",
     "text": [
      "<Response [200]>\n"
     ]
    }
   ],
   "source": [
    "print(r)"
   ]
  },
  {
   "cell_type": "code",
   "execution_count": 216,
   "id": "99500b21",
   "metadata": {},
   "outputs": [],
   "source": [
    "soup = BeautifulSoup(r.text,\"lxml\")"
   ]
  },
  {
   "cell_type": "code",
   "execution_count": 217,
   "id": "4dad24a8",
   "metadata": {},
   "outputs": [],
   "source": [
    "table = soup.find(\"div\",class_ = \"card cardscreen cardtab mb-5 mb-md-0\")"
   ]
  },
  {
   "cell_type": "code",
   "execution_count": 218,
   "id": "832303c5",
   "metadata": {},
   "outputs": [],
   "source": [
    "headers = table.find_all(\"th\")"
   ]
  },
  {
   "cell_type": "code",
   "execution_count": 219,
   "id": "aa080bf9",
   "metadata": {},
   "outputs": [],
   "source": [
    "columns = []\n",
    "for i in headers[0:3]:\n",
    "    title = i.text\n",
    "    columns.append(title)"
   ]
  },
  {
   "cell_type": "code",
   "execution_count": 220,
   "id": "1a8020ed",
   "metadata": {},
   "outputs": [
    {
     "data": {
      "text/plain": [
       "['Company', 'PriceRs.', 'Day High Rs.']"
      ]
     },
     "execution_count": 220,
     "metadata": {},
     "output_type": "execute_result"
    }
   ],
   "source": [
    "columns"
   ]
  },
  {
   "cell_type": "code",
   "execution_count": 221,
   "id": "510188ff",
   "metadata": {},
   "outputs": [],
   "source": [
    "df = pd.DataFrame(columns = columns)"
   ]
  },
  {
   "cell_type": "code",
   "execution_count": 222,
   "id": "92ab8528",
   "metadata": {},
   "outputs": [
    {
     "name": "stdout",
     "output_type": "stream",
     "text": [
      "Empty DataFrame\n",
      "Columns: [Company, PriceRs., Day High Rs.]\n",
      "Index: []\n"
     ]
    }
   ],
   "source": [
    "print(df)"
   ]
  },
  {
   "cell_type": "code",
   "execution_count": 223,
   "id": "ff055ed5",
   "metadata": {},
   "outputs": [],
   "source": [
    "rows = table.find_all(\"tr\")"
   ]
  },
  {
   "cell_type": "code",
   "execution_count": 224,
   "id": "5f63c0e8",
   "metadata": {},
   "outputs": [],
   "source": [
    "for i in rows[1:]:\n",
    "    data = i.find_all(\"td\")\n",
    "    row = [i.text for i in data]\n",
    "    for i in row:\n",
    "        if len(row) >0 :\n",
    "            l = len(df)\n",
    "            df.loc[l] = row\n",
    "    "
   ]
  },
  {
   "cell_type": "code",
   "execution_count": 232,
   "id": "8afa868a",
   "metadata": {},
   "outputs": [
    {
     "data": {
      "text/html": [
       "<div>\n",
       "<style scoped>\n",
       "    .dataframe tbody tr th:only-of-type {\n",
       "        vertical-align: middle;\n",
       "    }\n",
       "\n",
       "    .dataframe tbody tr th {\n",
       "        vertical-align: top;\n",
       "    }\n",
       "\n",
       "    .dataframe thead th {\n",
       "        text-align: right;\n",
       "    }\n",
       "</style>\n",
       "<table border=\"1\" class=\"dataframe\">\n",
       "  <thead>\n",
       "    <tr style=\"text-align: right;\">\n",
       "      <th></th>\n",
       "      <th>Company</th>\n",
       "      <th>PriceRs.</th>\n",
       "      <th>Day High Rs.</th>\n",
       "    </tr>\n",
       "  </thead>\n",
       "  <tbody>\n",
       "    <tr>\n",
       "      <th>0</th>\n",
       "      <td>GAIL India</td>\n",
       "      <td>151.5</td>\n",
       "      <td>153.15</td>\n",
       "    </tr>\n",
       "    <tr>\n",
       "      <th>1</th>\n",
       "      <td>GAIL India</td>\n",
       "      <td>151.5</td>\n",
       "      <td>153.15</td>\n",
       "    </tr>\n",
       "    <tr>\n",
       "      <th>2</th>\n",
       "      <td>GAIL India</td>\n",
       "      <td>151.5</td>\n",
       "      <td>153.15</td>\n",
       "    </tr>\n",
       "    <tr>\n",
       "      <th>3</th>\n",
       "      <td>Hindustan Copper</td>\n",
       "      <td>226.6</td>\n",
       "      <td>232</td>\n",
       "    </tr>\n",
       "    <tr>\n",
       "      <th>4</th>\n",
       "      <td>Hindustan Copper</td>\n",
       "      <td>226.6</td>\n",
       "      <td>232</td>\n",
       "    </tr>\n",
       "  </tbody>\n",
       "</table>\n",
       "</div>"
      ],
      "text/plain": [
       "            Company PriceRs. Day High Rs.\n",
       "0        GAIL India    151.5       153.15\n",
       "1        GAIL India    151.5       153.15\n",
       "2        GAIL India    151.5       153.15\n",
       "3  Hindustan Copper    226.6          232\n",
       "4  Hindustan Copper    226.6          232"
      ]
     },
     "execution_count": 232,
     "metadata": {},
     "output_type": "execute_result"
    }
   ],
   "source": [
    "df['Company' ] = df['Company'].str.strip('\\n')\n",
    "df.head()"
   ]
  },
  {
   "cell_type": "code",
   "execution_count": 247,
   "id": "31d642e7",
   "metadata": {},
   "outputs": [],
   "source": [
    "fade =  soup.find(\"div\" ,class_ = \"tab-pane fade\")"
   ]
  },
  {
   "cell_type": "code",
   "execution_count": 249,
   "id": "097791b2",
   "metadata": {},
   "outputs": [],
   "source": [
    "table = fade.find(\"table\" ,class_ = \"table table-sm table-hover screenertable\")"
   ]
  },
  {
   "cell_type": "code",
   "execution_count": 253,
   "id": "40f570cf",
   "metadata": {},
   "outputs": [],
   "source": [
    "headers = table.find_all(\"th\")"
   ]
  },
  {
   "cell_type": "code",
   "execution_count": 254,
   "id": "80ca7537",
   "metadata": {},
   "outputs": [],
   "source": [
    "columns = []\n",
    "for i in headers:\n",
    "    title = i.text\n",
    "    columns.append(title)"
   ]
  },
  {
   "cell_type": "code",
   "execution_count": 255,
   "id": "eb5e5e47",
   "metadata": {},
   "outputs": [
    {
     "data": {
      "text/plain": [
       "['Company', 'Value Cr.']"
      ]
     },
     "execution_count": 255,
     "metadata": {},
     "output_type": "execute_result"
    }
   ],
   "source": [
    "columns"
   ]
  },
  {
   "cell_type": "code",
   "execution_count": null,
   "id": "38d755bf",
   "metadata": {},
   "outputs": [],
   "source": []
  },
  {
   "cell_type": "code",
   "execution_count": null,
   "id": "8c6b3cac",
   "metadata": {},
   "outputs": [],
   "source": []
  },
  {
   "cell_type": "code",
   "execution_count": null,
   "id": "0430c6f3",
   "metadata": {},
   "outputs": [],
   "source": []
  },
  {
   "cell_type": "code",
   "execution_count": null,
   "id": "93f9c60b",
   "metadata": {},
   "outputs": [],
   "source": []
  },
  {
   "cell_type": "code",
   "execution_count": null,
   "id": "b4d0c576",
   "metadata": {},
   "outputs": [],
   "source": []
  },
  {
   "cell_type": "code",
   "execution_count": null,
   "id": "9abbb13d",
   "metadata": {},
   "outputs": [],
   "source": []
  },
  {
   "cell_type": "code",
   "execution_count": null,
   "id": "78ef5f4f",
   "metadata": {},
   "outputs": [],
   "source": []
  }
 ],
 "metadata": {
  "kernelspec": {
   "display_name": "Python 3 (ipykernel)",
   "language": "python",
   "name": "python3"
  },
  "language_info": {
   "codemirror_mode": {
    "name": "ipython",
    "version": 3
   },
   "file_extension": ".py",
   "mimetype": "text/x-python",
   "name": "python",
   "nbconvert_exporter": "python",
   "pygments_lexer": "ipython3",
   "version": "3.9.13"
  }
 },
 "nbformat": 4,
 "nbformat_minor": 5
}
